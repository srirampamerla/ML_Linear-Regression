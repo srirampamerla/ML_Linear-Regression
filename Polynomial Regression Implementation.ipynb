{
 "cells": [
  {
   "cell_type": "code",
   "execution_count": 1,
   "metadata": {},
   "outputs": [],
   "source": [
    "##import libraries\n",
    "import numpy as np\n",
    "import pandas as pd\n",
    "import matplotlib.pyplot as plt\n",
    "%matplotlib inline "
   ]
  },
  {
   "cell_type": "code",
   "execution_count": 2,
   "metadata": {},
   "outputs": [
    {
     "data": {
      "application/javascript": [
       "\n",
       "        if (window._pyforest_update_imports_cell) { window._pyforest_update_imports_cell('import numpy as np'); }\n",
       "    "
      ],
      "text/plain": [
       "<IPython.core.display.Javascript object>"
      ]
     },
     "metadata": {},
     "output_type": "display_data"
    },
    {
     "name": "stdout",
     "output_type": "stream",
     "text": [
      "[[ 1.43422596]\n",
      " [-0.52557826]\n",
      " [-2.23758789]\n",
      " [ 2.0292685 ]\n",
      " [ 1.00358829]\n",
      " [-0.0621463 ]\n",
      " [ 0.79262523]\n",
      " [-1.65112608]\n",
      " [-1.13772795]\n",
      " [ 1.56150916]\n",
      " [ 0.68129591]\n",
      " [-1.28648635]\n",
      " [ 1.77209968]\n",
      " [-0.17357624]\n",
      " [-2.51477682]\n",
      " [ 1.77369001]\n",
      " [ 0.21065945]\n",
      " [ 2.47687152]\n",
      " [-0.07736375]\n",
      " [ 0.98106166]\n",
      " [ 2.09919102]\n",
      " [-0.32705714]\n",
      " [-1.49852944]\n",
      " [-2.89113596]\n",
      " [ 0.2494722 ]\n",
      " [ 0.91751049]\n",
      " [-0.57229637]\n",
      " [ 2.35253337]\n",
      " [ 1.94875625]\n",
      " [ 0.31252582]\n",
      " [ 1.09658196]\n",
      " [ 0.77521029]\n",
      " [ 0.00501967]\n",
      " [-1.55155624]\n",
      " [ 0.49128834]\n",
      " [ 2.29723808]\n",
      " [ 1.65460562]\n",
      " [-1.43051429]\n",
      " [-0.67891606]\n",
      " [ 0.13822962]\n",
      " [-0.74267886]\n",
      " [-0.99479102]\n",
      " [ 0.0536775 ]\n",
      " [ 1.03644936]\n",
      " [-2.46149448]\n",
      " [ 2.00933506]\n",
      " [ 2.60510798]\n",
      " [ 1.38786366]\n",
      " [-1.88690209]\n",
      " [ 1.19232511]\n",
      " [ 0.30473406]\n",
      " [ 0.11855674]\n",
      " [-2.99146997]\n",
      " [ 2.02634001]\n",
      " [-2.99700359]\n",
      " [ 2.50595847]\n",
      " [ 1.45211913]\n",
      " [-0.98019023]\n",
      " [-0.69801419]\n",
      " [ 2.46181904]\n",
      " [-1.98513967]\n",
      " [ 0.51532298]\n",
      " [-1.37412107]\n",
      " [-0.33627193]\n",
      " [-1.53117249]\n",
      " [-1.42207227]\n",
      " [-0.53894677]\n",
      " [ 1.7995426 ]\n",
      " [-2.27493762]\n",
      " [-1.22821381]\n",
      " [-2.82900821]\n",
      " [-2.15161838]\n",
      " [-0.14425699]\n",
      " [ 0.74309416]\n",
      " [-2.77818882]\n",
      " [-1.66556114]\n",
      " [-1.67435413]\n",
      " [ 0.27387064]\n",
      " [-0.8444969 ]\n",
      " [ 1.65904665]\n",
      " [-2.53675661]\n",
      " [-1.37017741]\n",
      " [-0.32266994]\n",
      " [ 1.95515007]\n",
      " [ 2.5895277 ]\n",
      " [-2.17217799]\n",
      " [-0.53923584]\n",
      " [ 0.06346869]\n",
      " [-0.58904035]\n",
      " [-0.32028667]\n",
      " [-2.82004485]\n",
      " [-1.02727916]\n",
      " [ 2.10922749]\n",
      " [-2.84633953]\n",
      " [ 0.56164587]\n",
      " [ 0.79994618]\n",
      " [-0.06886123]\n",
      " [-1.48915042]\n",
      " [ 1.20134029]\n",
      " [-0.83500515]]\n"
     ]
    }
   ],
   "source": [
    "X = 6 * np.random.rand(100, 1) - 3"
   ]
  },
  {
   "cell_type": "code",
   "execution_count": 7,
   "metadata": {},
   "outputs": [
    {
     "data": {
      "application/javascript": [
       "\n",
       "        if (window._pyforest_update_imports_cell) { window._pyforest_update_imports_cell('import numpy as np'); }\n",
       "    "
      ],
      "text/plain": [
       "<IPython.core.display.Javascript object>"
      ]
     },
     "metadata": {},
     "output_type": "display_data"
    },
    {
     "data": {
      "application/javascript": [
       "\n",
       "        if (window._pyforest_update_imports_cell) { window._pyforest_update_imports_cell('import matplotlib.pyplot as plt\\nimport numpy as np'); }\n",
       "    "
      ],
      "text/plain": [
       "<IPython.core.display.Javascript object>"
      ]
     },
     "metadata": {},
     "output_type": "display_data"
    },
    {
     "data": {
      "application/javascript": [
       "\n",
       "        if (window._pyforest_update_imports_cell) { window._pyforest_update_imports_cell('import matplotlib.pyplot as plt\\nimport numpy as np'); }\n",
       "    "
      ],
      "text/plain": [
       "<IPython.core.display.Javascript object>"
      ]
     },
     "metadata": {},
     "output_type": "display_data"
    },
    {
     "data": {
      "application/javascript": [
       "\n",
       "        if (window._pyforest_update_imports_cell) { window._pyforest_update_imports_cell('import matplotlib.pyplot as plt\\nimport numpy as np'); }\n",
       "    "
      ],
      "text/plain": [
       "<IPython.core.display.Javascript object>"
      ]
     },
     "metadata": {},
     "output_type": "display_data"
    },
    {
     "data": {
      "text/plain": [
       "Text(0, 0.5, 'Y dataset')"
      ]
     },
     "execution_count": 7,
     "metadata": {},
     "output_type": "execute_result"
    },
    {
     "data": {
      "image/png": "[encoded data removed]",
      "text/plain": [
       "<Figure size 432x288 with 1 Axes>"
      ]
     },
     "metadata": {
      "needs_background": "light"
     },
     "output_type": "display_data"
    }
   ],
   "source": [
    "y =0.5 * X**2 + 1.5*X + 2 + np.random.randn(100, 1) # quadratic equation used- y=0.5x^2+1.5x+2+outliers\n",
    "plt.scatter(X,y,color='g')\n",
    "plt.xlabel('X dataset')\n",
    "plt.ylabel('Y dataset')"
   ]
  },
  {
   "cell_type": "code",
   "execution_count": 8,
   "metadata": {},
   "outputs": [],
   "source": [
    "from sklearn.model_selection import train_test_split\n",
    "X_train,X_test,y_train,y_test=train_test_split(X,y,test_size=0.2,random_state=42)"
   ]
  },
  {
   "cell_type": "code",
   "execution_count": 9,
   "metadata": {},
   "outputs": [],
   "source": [
    "## Lets implement Simple Linear Regression\n",
    "from sklearn.linear_model import LinearRegression\n",
    "regression_1=LinearRegression()"
   ]
  },
  {
   "cell_type": "code",
   "execution_count": null,
   "metadata": {},
   "outputs": [],
   "source": []
  },
  {
   "cell_type": "code",
   "execution_count": 10,
   "metadata": {},
   "outputs": [
    {
     "data": {
      "text/plain": [
       "LinearRegression()"
      ]
     },
     "execution_count": 10,
     "metadata": {},
     "output_type": "execute_result"
    }
   ],
   "source": [
    "regression_1.fit(X_train,y_train)"
   ]
  },
  {
   "cell_type": "code",
   "execution_count": 11,
   "metadata": {},
   "outputs": [
    {
     "name": "stdout",
     "output_type": "stream",
     "text": [
      "0.3057273718888863\n"
     ]
    }
   ],
   "source": [
    "from sklearn.metrics import r2_score\n",
    "score=r2_score(y_test,regression_1.predict(X_test))\n",
    "print(score)"
   ]
  },
  {
   "cell_type": "code",
   "execution_count": 12,
   "metadata": {},
   "outputs": [
    {
     "data": {
      "application/javascript": [
       "\n",
       "        if (window._pyforest_update_imports_cell) { window._pyforest_update_imports_cell('import matplotlib.pyplot as plt\\nimport numpy as np'); }\n",
       "    "
      ],
      "text/plain": [
       "<IPython.core.display.Javascript object>"
      ]
     },
     "metadata": {},
     "output_type": "display_data"
    },
    {
     "data": {
      "application/javascript": [
       "\n",
       "        if (window._pyforest_update_imports_cell) { window._pyforest_update_imports_cell('import matplotlib.pyplot as plt\\nimport numpy as np'); }\n",
       "    "
      ],
      "text/plain": [
       "<IPython.core.display.Javascript object>"
      ]
     },
     "metadata": {},
     "output_type": "display_data"
    },
    {
     "data": {
      "application/javascript": [
       "\n",
       "        if (window._pyforest_update_imports_cell) { window._pyforest_update_imports_cell('import matplotlib.pyplot as plt\\nimport numpy as np'); }\n",
       "    "
      ],
      "text/plain": [
       "<IPython.core.display.Javascript object>"
      ]
     },
     "metadata": {},
     "output_type": "display_data"
    },
    {
     "data": {
      "application/javascript": [
       "\n",
       "        if (window._pyforest_update_imports_cell) { window._pyforest_update_imports_cell('import matplotlib.pyplot as plt\\nimport numpy as np'); }\n",
       "    "
      ],
      "text/plain": [
       "<IPython.core.display.Javascript object>"
      ]
     },
     "metadata": {},
     "output_type": "display_data"
    },
    {
     "data": {
      "text/plain": [
       "Text(0, 0.5, 'Y')"
      ]
     },
     "execution_count": 12,
     "metadata": {},
     "output_type": "execute_result"
    },
    {
     "data": {
      "image/png": "[encoded data removed]",
      "text/plain": [
       "<Figure size 432x288 with 1 Axes>"
      ]
     },
     "metadata": {
      "needs_background": "light"
     },
     "output_type": "display_data"
    }
   ],
   "source": [
    "## Lets visualize this model\n",
    "plt.plot(X_train,regression_1.predict(X_train),color='r')\n",
    "plt.scatter(X_train,y_train)\n",
    "plt.xlabel(\"X Dataset\")\n",
    "plt.ylabel(\"Y\")\n"
   ]
  },
  {
   "cell_type": "code",
   "execution_count": 13,
   "metadata": {},
   "outputs": [],
   "source": [
    "#LEts apply polynomial transformation\n",
    "from sklearn.preprocessing import PolynomialFeatures"
   ]
  },
  {
   "cell_type": "code",
   "execution_count": 40,
   "metadata": {},
   "outputs": [],
   "source": [
    "poly=PolynomialFeatures(degree=2,include_bias=True)\n",
    "X_train_poly=poly.fit_transform(X_train)\n",
    "X_test_poly=poly.transform(X_test)"
   ]
  },
  {
   "cell_type": "code",
   "execution_count": 41,
   "metadata": {},
   "outputs": [
    {
     "data": {
      "text/plain": [
       "6.279827853364741"
      ]
     },
     "execution_count": 41,
     "metadata": {},
     "output_type": "execute_result"
    }
   ],
   "source": [
    "2.50595847e+00**2"
   ]
  },
  {
   "cell_type": "code",
   "execution_count": 42,
   "metadata": {},
   "outputs": [
    {
     "data": {
      "text/plain": [
       "array([[ 1.00000000e+00,  2.50595847e+00,  6.27982785e+00],\n",
       "       [ 1.00000000e+00, -5.89040354e-01,  3.46968538e-01],\n",
       "       [ 1.00000000e+00, -5.72296374e-01,  3.27523140e-01],\n",
       "       [ 1.00000000e+00,  5.36775019e-02,  2.88127421e-03],\n",
       "       [ 1.00000000e+00, -1.22821381e+00,  1.50850917e+00],\n",
       "       [ 1.00000000e+00,  1.77369001e+00,  3.14597627e+00],\n",
       "       [ 1.00000000e+00, -7.42678857e-01,  5.51571885e-01],\n",
       "       [ 1.00000000e+00, -6.88612277e-02,  4.74186869e-03],\n",
       "       [ 1.00000000e+00,  1.56150916e+00,  2.43831085e+00],\n",
       "       [ 1.00000000e+00, -1.44256986e-01,  2.08100780e-02],\n",
       "       [ 1.00000000e+00, -1.28648635e+00,  1.65504713e+00],\n",
       "       [ 1.00000000e+00,  1.38786366e+00,  1.92616554e+00],\n",
       "       [ 1.00000000e+00, -2.17217799e+00,  4.71835721e+00],\n",
       "       [ 1.00000000e+00,  1.94875625e+00,  3.79765091e+00],\n",
       "       [ 1.00000000e+00, -2.84633953e+00,  8.10164871e+00],\n",
       "       [ 1.00000000e+00, -6.21462957e-02,  3.86216207e-03],\n",
       "       [ 1.00000000e+00, -5.38946766e-01,  2.90463617e-01],\n",
       "       [ 1.00000000e+00, -1.42207227e+00,  2.02228954e+00],\n",
       "       [ 1.00000000e+00,  2.29723808e+00,  5.27730278e+00],\n",
       "       [ 1.00000000e+00,  2.10659445e-01,  4.43774019e-02],\n",
       "       [ 1.00000000e+00,  1.19232511e+00,  1.42163917e+00],\n",
       "       [ 1.00000000e+00,  4.91288342e-01,  2.41364235e-01],\n",
       "       [ 1.00000000e+00, -1.65112608e+00,  2.72621733e+00],\n",
       "       [ 1.00000000e+00,  7.99946180e-01,  6.39913891e-01],\n",
       "       [ 1.00000000e+00,  2.35253337e+00,  5.53441328e+00],\n",
       "       [ 1.00000000e+00,  9.81061664e-01,  9.62481989e-01],\n",
       "       [ 1.00000000e+00, -1.37017741e+00,  1.87738613e+00],\n",
       "       [ 1.00000000e+00,  9.17510488e-01,  8.41825496e-01],\n",
       "       [ 1.00000000e+00, -1.37412107e+00,  1.88820870e+00],\n",
       "       [ 1.00000000e+00, -1.73576244e-01,  3.01287126e-02],\n",
       "       [ 1.00000000e+00,  2.49472200e-01,  6.22363783e-02],\n",
       "       [ 1.00000000e+00,  2.02926850e+00,  4.11793065e+00],\n",
       "       [ 1.00000000e+00,  2.47687152e+00,  6.13489251e+00],\n",
       "       [ 1.00000000e+00, -6.78916060e-01,  4.60927016e-01],\n",
       "       [ 1.00000000e+00, -1.13772795e+00,  1.29442490e+00],\n",
       "       [ 1.00000000e+00, -8.44496901e-01,  7.13175017e-01],\n",
       "       [ 1.00000000e+00,  7.92625234e-01,  6.28254762e-01],\n",
       "       [ 1.00000000e+00, -1.53117249e+00,  2.34448919e+00],\n",
       "       [ 1.00000000e+00,  1.65460562e+00,  2.73771976e+00],\n",
       "       [ 1.00000000e+00, -3.20286674e-01,  1.02583553e-01],\n",
       "       [ 1.00000000e+00,  1.45211913e+00,  2.10864996e+00],\n",
       "       [ 1.00000000e+00, -8.35005148e-01,  6.97233598e-01],\n",
       "       [ 1.00000000e+00, -2.99700359e+00,  8.98203051e+00],\n",
       "       [ 1.00000000e+00,  1.03644936e+00,  1.07422727e+00],\n",
       "       [ 1.00000000e+00,  3.04734057e-01,  9.28628453e-02],\n",
       "       [ 1.00000000e+00,  1.79954260e+00,  3.23835358e+00],\n",
       "       [ 1.00000000e+00,  2.60510798e+00,  6.78658757e+00],\n",
       "       [ 1.00000000e+00, -2.27493762e+00,  5.17534119e+00],\n",
       "       [ 1.00000000e+00,  5.15322982e-01,  2.65557776e-01],\n",
       "       [ 1.00000000e+00, -1.48915042e+00,  2.21756898e+00],\n",
       "       [ 1.00000000e+00,  1.65904665e+00,  2.75243580e+00],\n",
       "       [ 1.00000000e+00, -9.94791019e-01,  9.89609172e-01],\n",
       "       [ 1.00000000e+00, -6.98014188e-01,  4.87223807e-01],\n",
       "       [ 1.00000000e+00, -1.88690209e+00,  3.56039949e+00],\n",
       "       [ 1.00000000e+00,  1.20134029e+00,  1.44321848e+00],\n",
       "       [ 1.00000000e+00, -9.80190230e-01,  9.60772886e-01],\n",
       "       [ 1.00000000e+00, -1.66556114e+00,  2.77409392e+00],\n",
       "       [ 1.00000000e+00,  5.01967097e-03,  2.51970966e-05],\n",
       "       [ 1.00000000e+00,  5.61645868e-01,  3.15446081e-01],\n",
       "       [ 1.00000000e+00,  2.46181904e+00,  6.06055300e+00],\n",
       "       [ 1.00000000e+00, -3.36271931e-01,  1.13078812e-01],\n",
       "       [ 1.00000000e+00,  2.58952770e+00,  6.70565369e+00],\n",
       "       [ 1.00000000e+00, -1.43051429e+00,  2.04637113e+00],\n",
       "       [ 1.00000000e+00,  3.12525819e-01,  9.76723873e-02],\n",
       "       [ 1.00000000e+00, -5.25578265e-01,  2.76232513e-01],\n",
       "       [ 1.00000000e+00, -2.99146997e+00,  8.94889258e+00],\n",
       "       [ 1.00000000e+00, -3.27057141e-01,  1.06966374e-01],\n",
       "       [ 1.00000000e+00, -2.23758789e+00,  5.00679955e+00],\n",
       "       [ 1.00000000e+00, -2.89113596e+00,  8.35866715e+00],\n",
       "       [ 1.00000000e+00,  6.34686868e-02,  4.02827421e-03],\n",
       "       [ 1.00000000e+00, -1.02727916e+00,  1.05530247e+00],\n",
       "       [ 1.00000000e+00, -2.77818882e+00,  7.71833313e+00],\n",
       "       [ 1.00000000e+00, -5.39235835e-01,  2.90775286e-01],\n",
       "       [ 1.00000000e+00, -3.22669936e-01,  1.04115887e-01],\n",
       "       [ 1.00000000e+00,  2.09919102e+00,  4.40660292e+00],\n",
       "       [ 1.00000000e+00, -1.98513967e+00,  3.94077953e+00],\n",
       "       [ 1.00000000e+00, -2.15161838e+00,  4.62946165e+00],\n",
       "       [ 1.00000000e+00, -2.51477682e+00,  6.32410248e+00],\n",
       "       [ 1.00000000e+00,  2.10922749e+00,  4.44884060e+00],\n",
       "       [ 1.00000000e+00,  1.18556742e-01,  1.40557010e-02]])"
      ]
     },
     "execution_count": 42,
     "metadata": {},
     "output_type": "execute_result"
    }
   ],
   "source": [
    "X_train_poly#() constant value, x1 and x^2"
   ]
  },
  {
   "cell_type": "code",
   "execution_count": 43,
   "metadata": {},
   "outputs": [
    {
     "data": {
      "text/plain": [
       "array([[ 1.00000000e+00,  1.95515007e+00,  3.82261179e+00],\n",
       "       [ 1.00000000e+00,  2.02634001e+00,  4.10605382e+00],\n",
       "       [ 1.00000000e+00, -2.82900821e+00,  8.00328744e+00],\n",
       "       [ 1.00000000e+00,  2.00933506e+00,  4.03742739e+00],\n",
       "       [ 1.00000000e+00, -2.46149448e+00,  6.05895507e+00],\n",
       "       [ 1.00000000e+00,  1.38229617e-01,  1.91074271e-02],\n",
       "       [ 1.00000000e+00, -1.49852944e+00,  2.24559049e+00],\n",
       "       [ 1.00000000e+00, -2.53675661e+00,  6.43513409e+00],\n",
       "       [ 1.00000000e+00,  6.81295914e-01,  4.64164122e-01],\n",
       "       [ 1.00000000e+00,  1.43422596e+00,  2.05700411e+00],\n",
       "       [ 1.00000000e+00, -7.73637534e-02,  5.98515034e-03],\n",
       "       [ 1.00000000e+00,  1.09658196e+00,  1.20249199e+00],\n",
       "       [ 1.00000000e+00,  7.43094158e-01,  5.52188928e-01],\n",
       "       [ 1.00000000e+00, -1.55155624e+00,  2.40732677e+00],\n",
       "       [ 1.00000000e+00, -2.82004485e+00,  7.95265296e+00],\n",
       "       [ 1.00000000e+00,  1.00358829e+00,  1.00718946e+00],\n",
       "       [ 1.00000000e+00, -1.67435413e+00,  2.80346177e+00],\n",
       "       [ 1.00000000e+00,  2.73870639e-01,  7.50051269e-02],\n",
       "       [ 1.00000000e+00,  1.77209968e+00,  3.14033726e+00],\n",
       "       [ 1.00000000e+00,  7.75210285e-01,  6.00950986e-01]])"
      ]
     },
     "execution_count": 43,
     "metadata": {},
     "output_type": "execute_result"
    }
   ],
   "source": [
    "X_test_poly"
   ]
  },
  {
   "cell_type": "code",
   "execution_count": 44,
   "metadata": {},
   "outputs": [
    {
     "name": "stdout",
     "output_type": "stream",
     "text": [
      "0.7098290890005499\n"
     ]
    }
   ],
   "source": [
    "\n",
    "from sklearn.metrics import r2_score\n",
    "regression = LinearRegression()\n",
    "regression.fit(X_train_poly, y_train)\n",
    "y_pred = regression.predict(X_test_poly)\n",
    "score=r2_score(y_test,y_pred)\n",
    "print(score)"
   ]
  },
  {
   "cell_type": "code",
   "execution_count": 45,
   "metadata": {},
   "outputs": [
    {
     "name": "stdout",
     "output_type": "stream",
     "text": [
      "[[0.         1.45770481 0.57478523]]\n"
     ]
    }
   ],
   "source": [
    "print(regression.coef_)"
   ]
  },
  {
   "cell_type": "code",
   "execution_count": 46,
   "metadata": {},
   "outputs": [
    {
     "name": "stdout",
     "output_type": "stream",
     "text": [
      "[1.76806418]\n"
     ]
    }
   ],
   "source": [
    "print(regression.intercept_)"
   ]
  },
  {
   "cell_type": "code",
   "execution_count": 63,
   "metadata": {},
   "outputs": [
    {
     "data": {
      "application/javascript": [
       "\n",
       "        if (window._pyforest_update_imports_cell) { window._pyforest_update_imports_cell('import matplotlib.pyplot as plt\\nimport numpy as np'); }\n",
       "    "
      ],
      "text/plain": [
       "<IPython.core.display.Javascript object>"
      ]
     },
     "metadata": {},
     "output_type": "display_data"
    },
    {
     "data": {
      "application/javascript": [
       "\n",
       "        if (window._pyforest_update_imports_cell) { window._pyforest_update_imports_cell('import matplotlib.pyplot as plt\\nimport numpy as np'); }\n",
       "    "
      ],
      "text/plain": [
       "<IPython.core.display.Javascript object>"
      ]
     },
     "metadata": {},
     "output_type": "display_data"
    },
    {
     "data": {
      "text/plain": [
       "<matplotlib.collections.PathCollection at 0x28d67a1bd00>"
      ]
     },
     "execution_count": 63,
     "metadata": {},
     "output_type": "execute_result"
    },
    {
     "data": {
      "image/png": "[encoded data removed]",
      "text/plain": [
       "<Figure size 432x288 with 1 Axes>"
      ]
     },
     "metadata": {
      "needs_background": "light"
     },
     "output_type": "display_data"
    }
   ],
   "source": [
    "plt.scatter(X_train,regression.predict(X_train_poly))\n",
    "plt.scatter(X_train,y_train)"
   ]
  },
  {
   "cell_type": "code",
   "execution_count": 47,
   "metadata": {},
   "outputs": [],
   "source": [
    "poly=PolynomialFeatures(degree=3,include_bias=True)\n",
    "X_train_poly=poly.fit_transform(X_train)\n",
    "X_test_poly=poly.transform(X_test)"
   ]
  },
  {
   "cell_type": "code",
   "execution_count": 49,
   "metadata": {},
   "outputs": [
    {
     "data": {
      "text/plain": [
       "15.73698779928129"
      ]
     },
     "execution_count": 49,
     "metadata": {},
     "output_type": "execute_result"
    }
   ],
   "source": [
    "2.50595847e+00**3"
   ]
  },
  {
   "cell_type": "code",
   "execution_count": 48,
   "metadata": {},
   "outputs": [
    {
     "data": {
      "text/plain": [
       "array([[ 1.00000000e+00,  2.50595847e+00,  6.27982785e+00,\n",
       "         1.57369878e+01],\n",
       "       [ 1.00000000e+00, -5.89040354e-01,  3.46968538e-01,\n",
       "        -2.04378471e-01],\n",
       "       [ 1.00000000e+00, -5.72296374e-01,  3.27523140e-01,\n",
       "        -1.87440306e-01],\n",
       "       [ 1.00000000e+00,  5.36775019e-02,  2.88127421e-03,\n",
       "         1.54659602e-04],\n",
       "       [ 1.00000000e+00, -1.22821381e+00,  1.50850917e+00,\n",
       "        -1.85277180e+00],\n",
       "       [ 1.00000000e+00,  1.77369001e+00,  3.14597627e+00,\n",
       "         5.57998669e+00],\n",
       "       [ 1.00000000e+00, -7.42678857e-01,  5.51571885e-01,\n",
       "        -4.09640777e-01],\n",
       "       [ 1.00000000e+00, -6.88612277e-02,  4.74186869e-03,\n",
       "        -3.26530900e-04],\n",
       "       [ 1.00000000e+00,  1.56150916e+00,  2.43831085e+00,\n",
       "         3.80744471e+00],\n",
       "       [ 1.00000000e+00, -1.44256986e-01,  2.08100780e-02,\n",
       "        -3.00199912e-03],\n",
       "       [ 1.00000000e+00, -1.28648635e+00,  1.65504713e+00,\n",
       "        -2.12919554e+00],\n",
       "       [ 1.00000000e+00,  1.38786366e+00,  1.92616554e+00,\n",
       "         2.67325515e+00],\n",
       "       [ 1.00000000e+00, -2.17217799e+00,  4.71835721e+00,\n",
       "        -1.02491117e+01],\n",
       "       [ 1.00000000e+00,  1.94875625e+00,  3.79765091e+00,\n",
       "         7.40069592e+00],\n",
       "       [ 1.00000000e+00, -2.84633953e+00,  8.10164871e+00,\n",
       "        -2.30600429e+01],\n",
       "       [ 1.00000000e+00, -6.21462957e-02,  3.86216207e-03,\n",
       "        -2.40019066e-04],\n",
       "       [ 1.00000000e+00, -5.38946766e-01,  2.90463617e-01,\n",
       "        -1.56544427e-01],\n",
       "       [ 1.00000000e+00, -1.42207227e+00,  2.02228954e+00,\n",
       "        -2.87584187e+00],\n",
       "       [ 1.00000000e+00,  2.29723808e+00,  5.27730278e+00,\n",
       "         1.21232209e+01],\n",
       "       [ 1.00000000e+00,  2.10659445e-01,  4.43774019e-02,\n",
       "         9.34851886e-03],\n",
       "       [ 1.00000000e+00,  1.19232511e+00,  1.42163917e+00,\n",
       "         1.69505608e+00],\n",
       "       [ 1.00000000e+00,  4.91288342e-01,  2.41364235e-01,\n",
       "         1.18579435e-01],\n",
       "       [ 1.00000000e+00, -1.65112608e+00,  2.72621733e+00,\n",
       "        -4.50132853e+00],\n",
       "       [ 1.00000000e+00,  7.99946180e-01,  6.39913891e-01,\n",
       "         5.11896673e-01],\n",
       "       [ 1.00000000e+00,  2.35253337e+00,  5.53441328e+00,\n",
       "         1.30198920e+01],\n",
       "       [ 1.00000000e+00,  9.81061664e-01,  9.62481989e-01,\n",
       "         9.44254182e-01],\n",
       "       [ 1.00000000e+00, -1.37017741e+00,  1.87738613e+00,\n",
       "        -2.57235206e+00],\n",
       "       [ 1.00000000e+00,  9.17510488e-01,  8.41825496e-01,\n",
       "         7.72383722e-01],\n",
       "       [ 1.00000000e+00, -1.37412107e+00,  1.88820870e+00,\n",
       "        -2.59462735e+00],\n",
       "       [ 1.00000000e+00, -1.73576244e-01,  3.01287126e-02,\n",
       "        -5.22962879e-03],\n",
       "       [ 1.00000000e+00,  2.49472200e-01,  6.22363783e-02,\n",
       "         1.55262462e-02],\n",
       "       [ 1.00000000e+00,  2.02926850e+00,  4.11793065e+00,\n",
       "         8.35638696e+00],\n",
       "       [ 1.00000000e+00,  2.47687152e+00,  6.13489251e+00,\n",
       "         1.51953405e+01],\n",
       "       [ 1.00000000e+00, -6.78916060e-01,  4.60927016e-01,\n",
       "        -3.12930754e-01],\n",
       "       [ 1.00000000e+00, -1.13772795e+00,  1.29442490e+00,\n",
       "        -1.47270339e+00],\n",
       "       [ 1.00000000e+00, -8.44496901e-01,  7.13175017e-01,\n",
       "        -6.02274092e-01],\n",
       "       [ 1.00000000e+00,  7.92625234e-01,  6.28254762e-01,\n",
       "         4.97970578e-01],\n",
       "       [ 1.00000000e+00, -1.53117249e+00,  2.34448919e+00,\n",
       "        -3.58981735e+00],\n",
       "       [ 1.00000000e+00,  1.65460562e+00,  2.73771976e+00,\n",
       "         4.52984651e+00],\n",
       "       [ 1.00000000e+00, -3.20286674e-01,  1.02583553e-01,\n",
       "        -3.28561451e-02],\n",
       "       [ 1.00000000e+00,  1.45211913e+00,  2.10864996e+00,\n",
       "         3.06201093e+00],\n",
       "       [ 1.00000000e+00, -8.35005148e-01,  6.97233598e-01,\n",
       "        -5.82193644e-01],\n",
       "       [ 1.00000000e+00, -2.99700359e+00,  8.98203051e+00,\n",
       "        -2.69191777e+01],\n",
       "       [ 1.00000000e+00,  1.03644936e+00,  1.07422727e+00,\n",
       "         1.11338216e+00],\n",
       "       [ 1.00000000e+00,  3.04734057e-01,  9.28628453e-02,\n",
       "         2.82984716e-02],\n",
       "       [ 1.00000000e+00,  1.79954260e+00,  3.23835358e+00,\n",
       "         5.82755523e+00],\n",
       "       [ 1.00000000e+00,  2.60510798e+00,  6.78658757e+00,\n",
       "         1.76797934e+01],\n",
       "       [ 1.00000000e+00, -2.27493762e+00,  5.17534119e+00,\n",
       "        -1.17735784e+01],\n",
       "       [ 1.00000000e+00,  5.15322982e-01,  2.65557776e-01,\n",
       "         1.36848025e-01],\n",
       "       [ 1.00000000e+00, -1.48915042e+00,  2.21756898e+00,\n",
       "        -3.30229379e+00],\n",
       "       [ 1.00000000e+00,  1.65904665e+00,  2.75243580e+00,\n",
       "         4.56641940e+00],\n",
       "       [ 1.00000000e+00, -9.94791019e-01,  9.89609172e-01,\n",
       "        -9.84454317e-01],\n",
       "       [ 1.00000000e+00, -6.98014188e-01,  4.87223807e-01,\n",
       "        -3.40089130e-01],\n",
       "       [ 1.00000000e+00, -1.88690209e+00,  3.56039949e+00,\n",
       "        -6.71812523e+00],\n",
       "       [ 1.00000000e+00,  1.20134029e+00,  1.44321848e+00,\n",
       "         1.73379651e+00],\n",
       "       [ 1.00000000e+00, -9.80190230e-01,  9.60772886e-01,\n",
       "        -9.41740196e-01],\n",
       "       [ 1.00000000e+00, -1.66556114e+00,  2.77409392e+00,\n",
       "        -4.62042305e+00],\n",
       "       [ 1.00000000e+00,  5.01967097e-03,  2.51970966e-05,\n",
       "         1.26481134e-07],\n",
       "       [ 1.00000000e+00,  5.61645868e-01,  3.15446081e-01,\n",
       "         1.77168988e-01],\n",
       "       [ 1.00000000e+00,  2.46181904e+00,  6.06055300e+00,\n",
       "         1.49199848e+01],\n",
       "       [ 1.00000000e+00, -3.36271931e-01,  1.13078812e-01,\n",
       "        -3.80252304e-02],\n",
       "       [ 1.00000000e+00,  2.58952770e+00,  6.70565369e+00,\n",
       "         1.73644760e+01],\n",
       "       [ 1.00000000e+00, -1.43051429e+00,  2.04637113e+00,\n",
       "        -2.92736314e+00],\n",
       "       [ 1.00000000e+00,  3.12525819e-01,  9.76723873e-02,\n",
       "         3.05251428e-02],\n",
       "       [ 1.00000000e+00, -5.25578265e-01,  2.76232513e-01,\n",
       "        -1.45181805e-01],\n",
       "       [ 1.00000000e+00, -2.99146997e+00,  8.94889258e+00,\n",
       "        -2.67703434e+01],\n",
       "       [ 1.00000000e+00, -3.27057141e-01,  1.06966374e-01,\n",
       "        -3.49841163e-02],\n",
       "       [ 1.00000000e+00, -2.23758789e+00,  5.00679955e+00,\n",
       "        -1.12031540e+01],\n",
       "       [ 1.00000000e+00, -2.89113596e+00,  8.35866715e+00,\n",
       "        -2.41660432e+01],\n",
       "       [ 1.00000000e+00,  6.34686868e-02,  4.02827421e-03,\n",
       "         2.55669274e-04],\n",
       "       [ 1.00000000e+00, -1.02727916e+00,  1.05530247e+00,\n",
       "        -1.08409024e+00],\n",
       "       [ 1.00000000e+00, -2.77818882e+00,  7.71833313e+00,\n",
       "        -2.14429868e+01],\n",
       "       [ 1.00000000e+00, -5.39235835e-01,  2.90775286e-01,\n",
       "        -1.56796454e-01],\n",
       "       [ 1.00000000e+00, -3.22669936e-01,  1.04115887e-01,\n",
       "        -3.35950667e-02],\n",
       "       [ 1.00000000e+00,  2.09919102e+00,  4.40660292e+00,\n",
       "         9.25030126e+00],\n",
       "       [ 1.00000000e+00, -1.98513967e+00,  3.94077953e+00,\n",
       "        -7.82299779e+00],\n",
       "       [ 1.00000000e+00, -2.15161838e+00,  4.62946165e+00,\n",
       "        -9.96083476e+00],\n",
       "       [ 1.00000000e+00, -2.51477682e+00,  6.32410248e+00,\n",
       "        -1.59037063e+01],\n",
       "       [ 1.00000000e+00,  2.10922749e+00,  4.44884060e+00,\n",
       "         9.38361687e+00],\n",
       "       [ 1.00000000e+00,  1.18556742e-01,  1.40557010e-02,\n",
       "         1.66639811e-03]])"
      ]
     },
     "execution_count": 48,
     "metadata": {},
     "output_type": "execute_result"
    }
   ],
   "source": [
    "X_train_poly"
   ]
  },
  {
   "cell_type": "code",
   "execution_count": 50,
   "metadata": {},
   "outputs": [
    {
     "name": "stdout",
     "output_type": "stream",
     "text": [
      "0.7020281367961163\n"
     ]
    }
   ],
   "source": [
    "\n",
    "from sklearn.metrics import r2_score\n",
    "regression = LinearRegression()\n",
    "regression.fit(X_train_poly, y_train)\n",
    "y_pred = regression.predict(X_test_poly)\n",
    "score=r2_score(y_test,y_pred)\n",
    "print(score)"
   ]
  },
  {
   "cell_type": "code",
   "execution_count": 51,
   "metadata": {},
   "outputs": [
    {
     "data": {
      "application/javascript": [
       "\n",
       "        if (window._pyforest_update_imports_cell) { window._pyforest_update_imports_cell('import matplotlib.pyplot as plt\\nimport numpy as np'); }\n",
       "    "
      ],
      "text/plain": [
       "<IPython.core.display.Javascript object>"
      ]
     },
     "metadata": {},
     "output_type": "display_data"
    },
    {
     "data": {
      "text/plain": [
       "(200,)"
      ]
     },
     "execution_count": 51,
     "metadata": {},
     "output_type": "execute_result"
    }
   ],
   "source": [
    "X_new = np.linspace(-3, 3, 200)\n",
    "X_new.shape"
   ]
  },
  {
   "cell_type": "code",
   "execution_count": 52,
   "metadata": {},
   "outputs": [
    {
     "data": {
      "text/plain": [
       "array([[-3.        ],\n",
       "       [-2.96984925],\n",
       "       [-2.93969849],\n",
       "       [-2.90954774],\n",
       "       [-2.87939698],\n",
       "       [-2.84924623],\n",
       "       [-2.81909548],\n",
       "       [-2.78894472],\n",
       "       [-2.75879397],\n",
       "       [-2.72864322],\n",
       "       [-2.69849246],\n",
       "       [-2.66834171],\n",
       "       [-2.63819095],\n",
       "       [-2.6080402 ],\n",
       "       [-2.57788945],\n",
       "       [-2.54773869],\n",
       "       [-2.51758794],\n",
       "       [-2.48743719],\n",
       "       [-2.45728643],\n",
       "       [-2.42713568],\n",
       "       [-2.39698492],\n",
       "       [-2.36683417],\n",
       "       [-2.33668342],\n",
       "       [-2.30653266],\n",
       "       [-2.27638191],\n",
       "       [-2.24623116],\n",
       "       [-2.2160804 ],\n",
       "       [-2.18592965],\n",
       "       [-2.15577889],\n",
       "       [-2.12562814],\n",
       "       [-2.09547739],\n",
       "       [-2.06532663],\n",
       "       [-2.03517588],\n",
       "       [-2.00502513],\n",
       "       [-1.97487437],\n",
       "       [-1.94472362],\n",
       "       [-1.91457286],\n",
       "       [-1.88442211],\n",
       "       [-1.85427136],\n",
       "       [-1.8241206 ],\n",
       "       [-1.79396985],\n",
       "       [-1.7638191 ],\n",
       "       [-1.73366834],\n",
       "       [-1.70351759],\n",
       "       [-1.67336683],\n",
       "       [-1.64321608],\n",
       "       [-1.61306533],\n",
       "       [-1.58291457],\n",
       "       [-1.55276382],\n",
       "       [-1.52261307],\n",
       "       [-1.49246231],\n",
       "       [-1.46231156],\n",
       "       [-1.4321608 ],\n",
       "       [-1.40201005],\n",
       "       [-1.3718593 ],\n",
       "       [-1.34170854],\n",
       "       [-1.31155779],\n",
       "       [-1.28140704],\n",
       "       [-1.25125628],\n",
       "       [-1.22110553],\n",
       "       [-1.19095477],\n",
       "       [-1.16080402],\n",
       "       [-1.13065327],\n",
       "       [-1.10050251],\n",
       "       [-1.07035176],\n",
       "       [-1.04020101],\n",
       "       [-1.01005025],\n",
       "       [-0.9798995 ],\n",
       "       [-0.94974874],\n",
       "       [-0.91959799],\n",
       "       [-0.88944724],\n",
       "       [-0.85929648],\n",
       "       [-0.82914573],\n",
       "       [-0.79899497],\n",
       "       [-0.76884422],\n",
       "       [-0.73869347],\n",
       "       [-0.70854271],\n",
       "       [-0.67839196],\n",
       "       [-0.64824121],\n",
       "       [-0.61809045],\n",
       "       [-0.5879397 ],\n",
       "       [-0.55778894],\n",
       "       [-0.52763819],\n",
       "       [-0.49748744],\n",
       "       [-0.46733668],\n",
       "       [-0.43718593],\n",
       "       [-0.40703518],\n",
       "       [-0.37688442],\n",
       "       [-0.34673367],\n",
       "       [-0.31658291],\n",
       "       [-0.28643216],\n",
       "       [-0.25628141],\n",
       "       [-0.22613065],\n",
       "       [-0.1959799 ],\n",
       "       [-0.16582915],\n",
       "       [-0.13567839],\n",
       "       [-0.10552764],\n",
       "       [-0.07537688],\n",
       "       [-0.04522613],\n",
       "       [-0.01507538],\n",
       "       [ 0.01507538],\n",
       "       [ 0.04522613],\n",
       "       [ 0.07537688],\n",
       "       [ 0.10552764],\n",
       "       [ 0.13567839],\n",
       "       [ 0.16582915],\n",
       "       [ 0.1959799 ],\n",
       "       [ 0.22613065],\n",
       "       [ 0.25628141],\n",
       "       [ 0.28643216],\n",
       "       [ 0.31658291],\n",
       "       [ 0.34673367],\n",
       "       [ 0.37688442],\n",
       "       [ 0.40703518],\n",
       "       [ 0.43718593],\n",
       "       [ 0.46733668],\n",
       "       [ 0.49748744],\n",
       "       [ 0.52763819],\n",
       "       [ 0.55778894],\n",
       "       [ 0.5879397 ],\n",
       "       [ 0.61809045],\n",
       "       [ 0.64824121],\n",
       "       [ 0.67839196],\n",
       "       [ 0.70854271],\n",
       "       [ 0.73869347],\n",
       "       [ 0.76884422],\n",
       "       [ 0.79899497],\n",
       "       [ 0.82914573],\n",
       "       [ 0.85929648],\n",
       "       [ 0.88944724],\n",
       "       [ 0.91959799],\n",
       "       [ 0.94974874],\n",
       "       [ 0.9798995 ],\n",
       "       [ 1.01005025],\n",
       "       [ 1.04020101],\n",
       "       [ 1.07035176],\n",
       "       [ 1.10050251],\n",
       "       [ 1.13065327],\n",
       "       [ 1.16080402],\n",
       "       [ 1.19095477],\n",
       "       [ 1.22110553],\n",
       "       [ 1.25125628],\n",
       "       [ 1.28140704],\n",
       "       [ 1.31155779],\n",
       "       [ 1.34170854],\n",
       "       [ 1.3718593 ],\n",
       "       [ 1.40201005],\n",
       "       [ 1.4321608 ],\n",
       "       [ 1.46231156],\n",
       "       [ 1.49246231],\n",
       "       [ 1.52261307],\n",
       "       [ 1.55276382],\n",
       "       [ 1.58291457],\n",
       "       [ 1.61306533],\n",
       "       [ 1.64321608],\n",
       "       [ 1.67336683],\n",
       "       [ 1.70351759],\n",
       "       [ 1.73366834],\n",
       "       [ 1.7638191 ],\n",
       "       [ 1.79396985],\n",
       "       [ 1.8241206 ],\n",
       "       [ 1.85427136],\n",
       "       [ 1.88442211],\n",
       "       [ 1.91457286],\n",
       "       [ 1.94472362],\n",
       "       [ 1.97487437],\n",
       "       [ 2.00502513],\n",
       "       [ 2.03517588],\n",
       "       [ 2.06532663],\n",
       "       [ 2.09547739],\n",
       "       [ 2.12562814],\n",
       "       [ 2.15577889],\n",
       "       [ 2.18592965],\n",
       "       [ 2.2160804 ],\n",
       "       [ 2.24623116],\n",
       "       [ 2.27638191],\n",
       "       [ 2.30653266],\n",
       "       [ 2.33668342],\n",
       "       [ 2.36683417],\n",
       "       [ 2.39698492],\n",
       "       [ 2.42713568],\n",
       "       [ 2.45728643],\n",
       "       [ 2.48743719],\n",
       "       [ 2.51758794],\n",
       "       [ 2.54773869],\n",
       "       [ 2.57788945],\n",
       "       [ 2.6080402 ],\n",
       "       [ 2.63819095],\n",
       "       [ 2.66834171],\n",
       "       [ 2.69849246],\n",
       "       [ 2.72864322],\n",
       "       [ 2.75879397],\n",
       "       [ 2.78894472],\n",
       "       [ 2.81909548],\n",
       "       [ 2.84924623],\n",
       "       [ 2.87939698],\n",
       "       [ 2.90954774],\n",
       "       [ 2.93969849],\n",
       "       [ 2.96984925],\n",
       "       [ 3.        ]])"
      ]
     },
     "execution_count": 52,
     "metadata": {},
     "output_type": "execute_result"
    }
   ],
   "source": [
    "X_new.reshape(200, 1)"
   ]
  },
  {
   "cell_type": "code",
   "execution_count": 53,
   "metadata": {},
   "outputs": [
    {
     "data": {
      "application/javascript": [
       "\n",
       "        if (window._pyforest_update_imports_cell) { window._pyforest_update_imports_cell('import matplotlib.pyplot as plt\\nimport numpy as np'); }\n",
       "    "
      ],
      "text/plain": [
       "<IPython.core.display.Javascript object>"
      ]
     },
     "metadata": {},
     "output_type": "display_data"
    },
    {
     "data": {
      "text/plain": [
       "array([[ 1.00000000e+00, -3.00000000e+00,  9.00000000e+00,\n",
       "        -2.70000000e+01],\n",
       "       [ 1.00000000e+00, -2.96984925e+00,  8.82000455e+00,\n",
       "        -2.61940839e+01],\n",
       "       [ 1.00000000e+00, -2.93969849e+00,  8.64182723e+00,\n",
       "        -2.54043665e+01],\n",
       "       [ 1.00000000e+00, -2.90954774e+00,  8.46546804e+00,\n",
       "        -2.46306834e+01],\n",
       "       [ 1.00000000e+00, -2.87939698e+00,  8.29092700e+00,\n",
       "        -2.38728702e+01],\n",
       "       [ 1.00000000e+00, -2.84924623e+00,  8.11820409e+00,\n",
       "        -2.31307624e+01],\n",
       "       [ 1.00000000e+00, -2.81909548e+00,  7.94729931e+00,\n",
       "        -2.24041955e+01],\n",
       "       [ 1.00000000e+00, -2.78894472e+00,  7.77821267e+00,\n",
       "        -2.16930052e+01],\n",
       "       [ 1.00000000e+00, -2.75879397e+00,  7.61094417e+00,\n",
       "        -2.09970269e+01],\n",
       "       [ 1.00000000e+00, -2.72864322e+00,  7.44549380e+00,\n",
       "        -2.03160961e+01],\n",
       "       [ 1.00000000e+00, -2.69849246e+00,  7.28186157e+00,\n",
       "        -1.96500486e+01],\n",
       "       [ 1.00000000e+00, -2.66834171e+00,  7.12004747e+00,\n",
       "        -1.89987196e+01],\n",
       "       [ 1.00000000e+00, -2.63819095e+00,  6.96005151e+00,\n",
       "        -1.83619449e+01],\n",
       "       [ 1.00000000e+00, -2.60804020e+00,  6.80187369e+00,\n",
       "        -1.77395600e+01],\n",
       "       [ 1.00000000e+00, -2.57788945e+00,  6.64551400e+00,\n",
       "        -1.71314004e+01],\n",
       "       [ 1.00000000e+00, -2.54773869e+00,  6.49097245e+00,\n",
       "        -1.65373017e+01],\n",
       "       [ 1.00000000e+00, -2.51758794e+00,  6.33824903e+00,\n",
       "        -1.59570993e+01],\n",
       "       [ 1.00000000e+00, -2.48743719e+00,  6.18734375e+00,\n",
       "        -1.53906289e+01],\n",
       "       [ 1.00000000e+00, -2.45728643e+00,  6.03825661e+00,\n",
       "        -1.48377260e+01],\n",
       "       [ 1.00000000e+00, -2.42713568e+00,  5.89098760e+00,\n",
       "        -1.42982262e+01],\n",
       "       [ 1.00000000e+00, -2.39698492e+00,  5.74553673e+00,\n",
       "        -1.37719649e+01],\n",
       "       [ 1.00000000e+00, -2.36683417e+00,  5.60190399e+00,\n",
       "        -1.32587778e+01],\n",
       "       [ 1.00000000e+00, -2.33668342e+00,  5.46008939e+00,\n",
       "        -1.27585003e+01],\n",
       "       [ 1.00000000e+00, -2.30653266e+00,  5.32009293e+00,\n",
       "        -1.22709681e+01],\n",
       "       [ 1.00000000e+00, -2.27638191e+00,  5.18191460e+00,\n",
       "        -1.17960166e+01],\n",
       "       [ 1.00000000e+00, -2.24623116e+00,  5.04555441e+00,\n",
       "        -1.13334815e+01],\n",
       "       [ 1.00000000e+00, -2.21608040e+00,  4.91101235e+00,\n",
       "        -1.08831982e+01],\n",
       "       [ 1.00000000e+00, -2.18592965e+00,  4.77828843e+00,\n",
       "        -1.04450023e+01],\n",
       "       [ 1.00000000e+00, -2.15577889e+00,  4.64738264e+00,\n",
       "        -1.00187294e+01],\n",
       "       [ 1.00000000e+00, -2.12562814e+00,  4.51829499e+00,\n",
       "        -9.60421498e+00],\n",
       "       [ 1.00000000e+00, -2.09547739e+00,  4.39102548e+00,\n",
       "        -9.20129460e+00],\n",
       "       [ 1.00000000e+00, -2.06532663e+00,  4.26557410e+00,\n",
       "        -8.80980380e+00],\n",
       "       [ 1.00000000e+00, -2.03517588e+00,  4.14194086e+00,\n",
       "        -8.42957813e+00],\n",
       "       [ 1.00000000e+00, -2.00502513e+00,  4.02012575e+00,\n",
       "        -8.06045315e+00],\n",
       "       [ 1.00000000e+00, -1.97487437e+00,  3.90012878e+00,\n",
       "        -7.70226438e+00],\n",
       "       [ 1.00000000e+00, -1.94472362e+00,  3.78194995e+00,\n",
       "        -7.35484739e+00],\n",
       "       [ 1.00000000e+00, -1.91457286e+00,  3.66558925e+00,\n",
       "        -7.01803772e+00],\n",
       "       [ 1.00000000e+00, -1.88442211e+00,  3.55104669e+00,\n",
       "        -6.69167090e+00],\n",
       "       [ 1.00000000e+00, -1.85427136e+00,  3.43832226e+00,\n",
       "        -6.37558249e+00],\n",
       "       [ 1.00000000e+00, -1.82412060e+00,  3.32741597e+00,\n",
       "        -6.06960803e+00],\n",
       "       [ 1.00000000e+00, -1.79396985e+00,  3.21832782e+00,\n",
       "        -5.77358307e+00],\n",
       "       [ 1.00000000e+00, -1.76381910e+00,  3.11105780e+00,\n",
       "        -5.48734316e+00],\n",
       "       [ 1.00000000e+00, -1.73366834e+00,  3.00560592e+00,\n",
       "        -5.21072383e+00],\n",
       "       [ 1.00000000e+00, -1.70351759e+00,  2.90197217e+00,\n",
       "        -4.94356064e+00],\n",
       "       [ 1.00000000e+00, -1.67336683e+00,  2.80015656e+00,\n",
       "        -4.68568912e+00],\n",
       "       [ 1.00000000e+00, -1.64321608e+00,  2.70015909e+00,\n",
       "        -4.43694483e+00],\n",
       "       [ 1.00000000e+00, -1.61306533e+00,  2.60197975e+00,\n",
       "        -4.19716331e+00],\n",
       "       [ 1.00000000e+00, -1.58291457e+00,  2.50561854e+00,\n",
       "        -3.96618011e+00],\n",
       "       [ 1.00000000e+00, -1.55276382e+00,  2.41107548e+00,\n",
       "        -3.74383077e+00],\n",
       "       [ 1.00000000e+00, -1.52261307e+00,  2.31835055e+00,\n",
       "        -3.52995083e+00],\n",
       "       [ 1.00000000e+00, -1.49246231e+00,  2.22744375e+00,\n",
       "        -3.32437585e+00],\n",
       "       [ 1.00000000e+00, -1.46231156e+00,  2.13835509e+00,\n",
       "        -3.12694137e+00],\n",
       "       [ 1.00000000e+00, -1.43216080e+00,  2.05108457e+00,\n",
       "        -2.93748292e+00],\n",
       "       [ 1.00000000e+00, -1.40201005e+00,  1.96563218e+00,\n",
       "        -2.75583607e+00],\n",
       "       [ 1.00000000e+00, -1.37185930e+00,  1.88199793e+00,\n",
       "        -2.58183636e+00],\n",
       "       [ 1.00000000e+00, -1.34170854e+00,  1.80018181e+00,\n",
       "        -2.41531932e+00],\n",
       "       [ 1.00000000e+00, -1.31155779e+00,  1.72018383e+00,\n",
       "        -2.25612051e+00],\n",
       "       [ 1.00000000e+00, -1.28140704e+00,  1.64200399e+00,\n",
       "        -2.10407546e+00],\n",
       "       [ 1.00000000e+00, -1.25125628e+00,  1.56564228e+00,\n",
       "        -1.95901974e+00],\n",
       "       [ 1.00000000e+00, -1.22110553e+00,  1.49109871e+00,\n",
       "        -1.82078888e+00],\n",
       "       [ 1.00000000e+00, -1.19095477e+00,  1.41837327e+00,\n",
       "        -1.68921842e+00],\n",
       "       [ 1.00000000e+00, -1.16080402e+00,  1.34746597e+00,\n",
       "        -1.56414392e+00],\n",
       "       [ 1.00000000e+00, -1.13065327e+00,  1.27837681e+00,\n",
       "        -1.44540091e+00],\n",
       "       [ 1.00000000e+00, -1.10050251e+00,  1.21110578e+00,\n",
       "        -1.33282495e+00],\n",
       "       [ 1.00000000e+00, -1.07035176e+00,  1.14565289e+00,\n",
       "        -1.22625158e+00],\n",
       "       [ 1.00000000e+00, -1.04020101e+00,  1.08201813e+00,\n",
       "        -1.12551635e+00],\n",
       "       [ 1.00000000e+00, -1.01005025e+00,  1.02020151e+00,\n",
       "        -1.03045479e+00],\n",
       "       [ 1.00000000e+00, -9.79899497e-01,  9.60203025e-01,\n",
       "        -9.40902462e-01],\n",
       "       [ 1.00000000e+00, -9.49748744e-01,  9.02022676e-01,\n",
       "        -8.56694904e-01],\n",
       "       [ 1.00000000e+00, -9.19597990e-01,  8.45660463e-01,\n",
       "        -7.77667662e-01],\n",
       "       [ 1.00000000e+00, -8.89447236e-01,  7.91116386e-01,\n",
       "        -7.03656283e-01],\n",
       "       [ 1.00000000e+00, -8.59296482e-01,  7.38390445e-01,\n",
       "        -6.34496312e-01],\n",
       "       [ 1.00000000e+00, -8.29145729e-01,  6.87482639e-01,\n",
       "        -5.70023294e-01],\n",
       "       [ 1.00000000e+00, -7.98994975e-01,  6.38392970e-01,\n",
       "        -5.10072775e-01],\n",
       "       [ 1.00000000e+00, -7.68844221e-01,  5.91121436e-01,\n",
       "        -4.54480300e-01],\n",
       "       [ 1.00000000e+00, -7.38693467e-01,  5.45668039e-01,\n",
       "        -4.03081416e-01],\n",
       "       [ 1.00000000e+00, -7.08542714e-01,  5.02032777e-01,\n",
       "        -3.55711666e-01],\n",
       "       [ 1.00000000e+00, -6.78391960e-01,  4.60215651e-01,\n",
       "        -3.12206597e-01],\n",
       "       [ 1.00000000e+00, -6.48241206e-01,  4.20216661e-01,\n",
       "        -2.72401755e-01],\n",
       "       [ 1.00000000e+00, -6.18090452e-01,  3.82035807e-01,\n",
       "        -2.36132685e-01],\n",
       "       [ 1.00000000e+00, -5.87939698e-01,  3.45673089e-01,\n",
       "        -2.03234932e-01],\n",
       "       [ 1.00000000e+00, -5.57788945e-01,  3.11128507e-01,\n",
       "        -1.73544042e-01],\n",
       "       [ 1.00000000e+00, -5.27638191e-01,  2.78402061e-01,\n",
       "        -1.46895560e-01],\n",
       "       [ 1.00000000e+00, -4.97487437e-01,  2.47493750e-01,\n",
       "        -1.23125031e-01],\n",
       "       [ 1.00000000e+00, -4.67336683e-01,  2.18403576e-01,\n",
       "        -1.02068003e-01],\n",
       "       [ 1.00000000e+00, -4.37185930e-01,  1.91131537e-01,\n",
       "        -8.35600187e-02],\n",
       "       [ 1.00000000e+00, -4.07035176e-01,  1.65677634e-01,\n",
       "        -6.74366251e-02],\n",
       "       [ 1.00000000e+00, -3.76884422e-01,  1.42041868e-01,\n",
       "        -5.35333672e-02],\n",
       "       [ 1.00000000e+00, -3.46733668e-01,  1.20224237e-01,\n",
       "        -4.16857906e-02],\n",
       "       [ 1.00000000e+00, -3.16582915e-01,  1.00224742e-01,\n",
       "        -3.17294409e-02],\n",
       "       [ 1.00000000e+00, -2.86432161e-01,  8.20433827e-02,\n",
       "        -2.34998634e-02],\n",
       "       [ 1.00000000e+00, -2.56281407e-01,  6.56801596e-02,\n",
       "        -1.68326037e-02],\n",
       "       [ 1.00000000e+00, -2.26130653e-01,  5.11350723e-02,\n",
       "        -1.15632073e-02],\n",
       "       [ 1.00000000e+00, -1.95979899e-01,  3.84081210e-02,\n",
       "        -7.52721969e-03],\n",
       "       [ 1.00000000e+00, -1.65829146e-01,  2.74993056e-02,\n",
       "        -4.56018635e-03],\n",
       "       [ 1.00000000e+00, -1.35678392e-01,  1.84086260e-02,\n",
       "        -2.49765278e-03],\n",
       "       [ 1.00000000e+00, -1.05527638e-01,  1.11360824e-02,\n",
       "        -1.17516448e-03],\n",
       "       [ 1.00000000e+00, -7.53768844e-02,  5.68167471e-03,\n",
       "        -4.28266938e-04],\n",
       "       [ 1.00000000e+00, -4.52261307e-02,  2.04540289e-03,\n",
       "        -9.25056585e-05],\n",
       "       [ 1.00000000e+00, -1.50753769e-02,  2.27266988e-04,\n",
       "        -3.42613550e-06],\n",
       "       [ 1.00000000e+00,  1.50753769e-02,  2.27266988e-04,\n",
       "         3.42613550e-06],\n",
       "       [ 1.00000000e+00,  4.52261307e-02,  2.04540289e-03,\n",
       "         9.25056585e-05],\n",
       "       [ 1.00000000e+00,  7.53768844e-02,  5.68167471e-03,\n",
       "         4.28266938e-04],\n",
       "       [ 1.00000000e+00,  1.05527638e-01,  1.11360824e-02,\n",
       "         1.17516448e-03],\n",
       "       [ 1.00000000e+00,  1.35678392e-01,  1.84086260e-02,\n",
       "         2.49765278e-03],\n",
       "       [ 1.00000000e+00,  1.65829146e-01,  2.74993056e-02,\n",
       "         4.56018635e-03],\n",
       "       [ 1.00000000e+00,  1.95979899e-01,  3.84081210e-02,\n",
       "         7.52721969e-03],\n",
       "       [ 1.00000000e+00,  2.26130653e-01,  5.11350723e-02,\n",
       "         1.15632073e-02],\n",
       "       [ 1.00000000e+00,  2.56281407e-01,  6.56801596e-02,\n",
       "         1.68326037e-02],\n",
       "       [ 1.00000000e+00,  2.86432161e-01,  8.20433827e-02,\n",
       "         2.34998634e-02],\n",
       "       [ 1.00000000e+00,  3.16582915e-01,  1.00224742e-01,\n",
       "         3.17294409e-02],\n",
       "       [ 1.00000000e+00,  3.46733668e-01,  1.20224237e-01,\n",
       "         4.16857906e-02],\n",
       "       [ 1.00000000e+00,  3.76884422e-01,  1.42041868e-01,\n",
       "         5.35333672e-02],\n",
       "       [ 1.00000000e+00,  4.07035176e-01,  1.65677634e-01,\n",
       "         6.74366251e-02],\n",
       "       [ 1.00000000e+00,  4.37185930e-01,  1.91131537e-01,\n",
       "         8.35600187e-02],\n",
       "       [ 1.00000000e+00,  4.67336683e-01,  2.18403576e-01,\n",
       "         1.02068003e-01],\n",
       "       [ 1.00000000e+00,  4.97487437e-01,  2.47493750e-01,\n",
       "         1.23125031e-01],\n",
       "       [ 1.00000000e+00,  5.27638191e-01,  2.78402061e-01,\n",
       "         1.46895560e-01],\n",
       "       [ 1.00000000e+00,  5.57788945e-01,  3.11128507e-01,\n",
       "         1.73544042e-01],\n",
       "       [ 1.00000000e+00,  5.87939698e-01,  3.45673089e-01,\n",
       "         2.03234932e-01],\n",
       "       [ 1.00000000e+00,  6.18090452e-01,  3.82035807e-01,\n",
       "         2.36132685e-01],\n",
       "       [ 1.00000000e+00,  6.48241206e-01,  4.20216661e-01,\n",
       "         2.72401755e-01],\n",
       "       [ 1.00000000e+00,  6.78391960e-01,  4.60215651e-01,\n",
       "         3.12206597e-01],\n",
       "       [ 1.00000000e+00,  7.08542714e-01,  5.02032777e-01,\n",
       "         3.55711666e-01],\n",
       "       [ 1.00000000e+00,  7.38693467e-01,  5.45668039e-01,\n",
       "         4.03081416e-01],\n",
       "       [ 1.00000000e+00,  7.68844221e-01,  5.91121436e-01,\n",
       "         4.54480300e-01],\n",
       "       [ 1.00000000e+00,  7.98994975e-01,  6.38392970e-01,\n",
       "         5.10072775e-01],\n",
       "       [ 1.00000000e+00,  8.29145729e-01,  6.87482639e-01,\n",
       "         5.70023294e-01],\n",
       "       [ 1.00000000e+00,  8.59296482e-01,  7.38390445e-01,\n",
       "         6.34496312e-01],\n",
       "       [ 1.00000000e+00,  8.89447236e-01,  7.91116386e-01,\n",
       "         7.03656283e-01],\n",
       "       [ 1.00000000e+00,  9.19597990e-01,  8.45660463e-01,\n",
       "         7.77667662e-01],\n",
       "       [ 1.00000000e+00,  9.49748744e-01,  9.02022676e-01,\n",
       "         8.56694904e-01],\n",
       "       [ 1.00000000e+00,  9.79899497e-01,  9.60203025e-01,\n",
       "         9.40902462e-01],\n",
       "       [ 1.00000000e+00,  1.01005025e+00,  1.02020151e+00,\n",
       "         1.03045479e+00],\n",
       "       [ 1.00000000e+00,  1.04020101e+00,  1.08201813e+00,\n",
       "         1.12551635e+00],\n",
       "       [ 1.00000000e+00,  1.07035176e+00,  1.14565289e+00,\n",
       "         1.22625158e+00],\n",
       "       [ 1.00000000e+00,  1.10050251e+00,  1.21110578e+00,\n",
       "         1.33282495e+00],\n",
       "       [ 1.00000000e+00,  1.13065327e+00,  1.27837681e+00,\n",
       "         1.44540091e+00],\n",
       "       [ 1.00000000e+00,  1.16080402e+00,  1.34746597e+00,\n",
       "         1.56414392e+00],\n",
       "       [ 1.00000000e+00,  1.19095477e+00,  1.41837327e+00,\n",
       "         1.68921842e+00],\n",
       "       [ 1.00000000e+00,  1.22110553e+00,  1.49109871e+00,\n",
       "         1.82078888e+00],\n",
       "       [ 1.00000000e+00,  1.25125628e+00,  1.56564228e+00,\n",
       "         1.95901974e+00],\n",
       "       [ 1.00000000e+00,  1.28140704e+00,  1.64200399e+00,\n",
       "         2.10407546e+00],\n",
       "       [ 1.00000000e+00,  1.31155779e+00,  1.72018383e+00,\n",
       "         2.25612051e+00],\n",
       "       [ 1.00000000e+00,  1.34170854e+00,  1.80018181e+00,\n",
       "         2.41531932e+00],\n",
       "       [ 1.00000000e+00,  1.37185930e+00,  1.88199793e+00,\n",
       "         2.58183636e+00],\n",
       "       [ 1.00000000e+00,  1.40201005e+00,  1.96563218e+00,\n",
       "         2.75583607e+00],\n",
       "       [ 1.00000000e+00,  1.43216080e+00,  2.05108457e+00,\n",
       "         2.93748292e+00],\n",
       "       [ 1.00000000e+00,  1.46231156e+00,  2.13835509e+00,\n",
       "         3.12694137e+00],\n",
       "       [ 1.00000000e+00,  1.49246231e+00,  2.22744375e+00,\n",
       "         3.32437585e+00],\n",
       "       [ 1.00000000e+00,  1.52261307e+00,  2.31835055e+00,\n",
       "         3.52995083e+00],\n",
       "       [ 1.00000000e+00,  1.55276382e+00,  2.41107548e+00,\n",
       "         3.74383077e+00],\n",
       "       [ 1.00000000e+00,  1.58291457e+00,  2.50561854e+00,\n",
       "         3.96618011e+00],\n",
       "       [ 1.00000000e+00,  1.61306533e+00,  2.60197975e+00,\n",
       "         4.19716331e+00],\n",
       "       [ 1.00000000e+00,  1.64321608e+00,  2.70015909e+00,\n",
       "         4.43694483e+00],\n",
       "       [ 1.00000000e+00,  1.67336683e+00,  2.80015656e+00,\n",
       "         4.68568912e+00],\n",
       "       [ 1.00000000e+00,  1.70351759e+00,  2.90197217e+00,\n",
       "         4.94356064e+00],\n",
       "       [ 1.00000000e+00,  1.73366834e+00,  3.00560592e+00,\n",
       "         5.21072383e+00],\n",
       "       [ 1.00000000e+00,  1.76381910e+00,  3.11105780e+00,\n",
       "         5.48734316e+00],\n",
       "       [ 1.00000000e+00,  1.79396985e+00,  3.21832782e+00,\n",
       "         5.77358307e+00],\n",
       "       [ 1.00000000e+00,  1.82412060e+00,  3.32741597e+00,\n",
       "         6.06960803e+00],\n",
       "       [ 1.00000000e+00,  1.85427136e+00,  3.43832226e+00,\n",
       "         6.37558249e+00],\n",
       "       [ 1.00000000e+00,  1.88442211e+00,  3.55104669e+00,\n",
       "         6.69167090e+00],\n",
       "       [ 1.00000000e+00,  1.91457286e+00,  3.66558925e+00,\n",
       "         7.01803772e+00],\n",
       "       [ 1.00000000e+00,  1.94472362e+00,  3.78194995e+00,\n",
       "         7.35484739e+00],\n",
       "       [ 1.00000000e+00,  1.97487437e+00,  3.90012878e+00,\n",
       "         7.70226438e+00],\n",
       "       [ 1.00000000e+00,  2.00502513e+00,  4.02012575e+00,\n",
       "         8.06045315e+00],\n",
       "       [ 1.00000000e+00,  2.03517588e+00,  4.14194086e+00,\n",
       "         8.42957813e+00],\n",
       "       [ 1.00000000e+00,  2.06532663e+00,  4.26557410e+00,\n",
       "         8.80980380e+00],\n",
       "       [ 1.00000000e+00,  2.09547739e+00,  4.39102548e+00,\n",
       "         9.20129460e+00],\n",
       "       [ 1.00000000e+00,  2.12562814e+00,  4.51829499e+00,\n",
       "         9.60421498e+00],\n",
       "       [ 1.00000000e+00,  2.15577889e+00,  4.64738264e+00,\n",
       "         1.00187294e+01],\n",
       "       [ 1.00000000e+00,  2.18592965e+00,  4.77828843e+00,\n",
       "         1.04450023e+01],\n",
       "       [ 1.00000000e+00,  2.21608040e+00,  4.91101235e+00,\n",
       "         1.08831982e+01],\n",
       "       [ 1.00000000e+00,  2.24623116e+00,  5.04555441e+00,\n",
       "         1.13334815e+01],\n",
       "       [ 1.00000000e+00,  2.27638191e+00,  5.18191460e+00,\n",
       "         1.17960166e+01],\n",
       "       [ 1.00000000e+00,  2.30653266e+00,  5.32009293e+00,\n",
       "         1.22709681e+01],\n",
       "       [ 1.00000000e+00,  2.33668342e+00,  5.46008939e+00,\n",
       "         1.27585003e+01],\n",
       "       [ 1.00000000e+00,  2.36683417e+00,  5.60190399e+00,\n",
       "         1.32587778e+01],\n",
       "       [ 1.00000000e+00,  2.39698492e+00,  5.74553673e+00,\n",
       "         1.37719649e+01],\n",
       "       [ 1.00000000e+00,  2.42713568e+00,  5.89098760e+00,\n",
       "         1.42982262e+01],\n",
       "       [ 1.00000000e+00,  2.45728643e+00,  6.03825661e+00,\n",
       "         1.48377260e+01],\n",
       "       [ 1.00000000e+00,  2.48743719e+00,  6.18734375e+00,\n",
       "         1.53906289e+01],\n",
       "       [ 1.00000000e+00,  2.51758794e+00,  6.33824903e+00,\n",
       "         1.59570993e+01],\n",
       "       [ 1.00000000e+00,  2.54773869e+00,  6.49097245e+00,\n",
       "         1.65373017e+01],\n",
       "       [ 1.00000000e+00,  2.57788945e+00,  6.64551400e+00,\n",
       "         1.71314004e+01],\n",
       "       [ 1.00000000e+00,  2.60804020e+00,  6.80187369e+00,\n",
       "         1.77395600e+01],\n",
       "       [ 1.00000000e+00,  2.63819095e+00,  6.96005151e+00,\n",
       "         1.83619449e+01],\n",
       "       [ 1.00000000e+00,  2.66834171e+00,  7.12004747e+00,\n",
       "         1.89987196e+01],\n",
       "       [ 1.00000000e+00,  2.69849246e+00,  7.28186157e+00,\n",
       "         1.96500486e+01],\n",
       "       [ 1.00000000e+00,  2.72864322e+00,  7.44549380e+00,\n",
       "         2.03160961e+01],\n",
       "       [ 1.00000000e+00,  2.75879397e+00,  7.61094417e+00,\n",
       "         2.09970269e+01],\n",
       "       [ 1.00000000e+00,  2.78894472e+00,  7.77821267e+00,\n",
       "         2.16930052e+01],\n",
       "       [ 1.00000000e+00,  2.81909548e+00,  7.94729931e+00,\n",
       "         2.24041955e+01],\n",
       "       [ 1.00000000e+00,  2.84924623e+00,  8.11820409e+00,\n",
       "         2.31307624e+01],\n",
       "       [ 1.00000000e+00,  2.87939698e+00,  8.29092700e+00,\n",
       "         2.38728702e+01],\n",
       "       [ 1.00000000e+00,  2.90954774e+00,  8.46546804e+00,\n",
       "         2.46306834e+01],\n",
       "       [ 1.00000000e+00,  2.93969849e+00,  8.64182723e+00,\n",
       "         2.54043665e+01],\n",
       "       [ 1.00000000e+00,  2.96984925e+00,  8.82000455e+00,\n",
       "         2.61940839e+01],\n",
       "       [ 1.00000000e+00,  3.00000000e+00,  9.00000000e+00,\n",
       "         2.70000000e+01]])"
      ]
     },
     "execution_count": 53,
     "metadata": {},
     "output_type": "execute_result"
    }
   ],
   "source": [
    "#3 Prediction of new data set\n",
    "X_new = np.linspace(-3, 3, 200).reshape(200, 1)\n",
    "X_new_poly = poly.transform(X_new)\n",
    "X_new_poly"
   ]
  },
  {
   "cell_type": "code",
   "execution_count": 61,
   "metadata": {},
   "outputs": [
    {
     "data": {
      "application/javascript": [
       "\n",
       "        if (window._pyforest_update_imports_cell) { window._pyforest_update_imports_cell('import matplotlib.pyplot as plt\\nimport numpy as np'); }\n",
       "    "
      ],
      "text/plain": [
       "<IPython.core.display.Javascript object>"
      ]
     },
     "metadata": {},
     "output_type": "display_data"
    },
    {
     "data": {
      "application/javascript": [
       "\n",
       "        if (window._pyforest_update_imports_cell) { window._pyforest_update_imports_cell('import matplotlib.pyplot as plt\\nimport numpy as np'); }\n",
       "    "
      ],
      "text/plain": [
       "<IPython.core.display.Javascript object>"
      ]
     },
     "metadata": {},
     "output_type": "display_data"
    },
    {
     "data": {
      "application/javascript": [
       "\n",
       "        if (window._pyforest_update_imports_cell) { window._pyforest_update_imports_cell('import matplotlib.pyplot as plt\\nimport numpy as np'); }\n",
       "    "
      ],
      "text/plain": [
       "<IPython.core.display.Javascript object>"
      ]
     },
     "metadata": {},
     "output_type": "display_data"
    },
    {
     "data": {
      "application/javascript": [
       "\n",
       "        if (window._pyforest_update_imports_cell) { window._pyforest_update_imports_cell('import matplotlib.pyplot as plt\\nimport numpy as np'); }\n",
       "    "
      ],
      "text/plain": [
       "<IPython.core.display.Javascript object>"
      ]
     },
     "metadata": {},
     "output_type": "display_data"
    },
    {
     "data": {
      "application/javascript": [
       "\n",
       "        if (window._pyforest_update_imports_cell) { window._pyforest_update_imports_cell('import matplotlib.pyplot as plt\\nimport numpy as np'); }\n",
       "    "
      ],
      "text/plain": [
       "<IPython.core.display.Javascript object>"
      ]
     },
     "metadata": {},
     "output_type": "display_data"
    },
    {
     "data": {
      "application/javascript": [
       "\n",
       "        if (window._pyforest_update_imports_cell) { window._pyforest_update_imports_cell('import matplotlib.pyplot as plt\\nimport numpy as np'); }\n",
       "    "
      ],
      "text/plain": [
       "<IPython.core.display.Javascript object>"
      ]
     },
     "metadata": {},
     "output_type": "display_data"
    },
    {
     "data": {
      "application/javascript": [
       "\n",
       "        if (window._pyforest_update_imports_cell) { window._pyforest_update_imports_cell('import matplotlib.pyplot as plt\\nimport numpy as np'); }\n",
       "    "
      ],
      "text/plain": [
       "<IPython.core.display.Javascript object>"
      ]
     },
     "metadata": {},
     "output_type": "display_data"
    },
    {
     "data": {
      "image/png": "[encoded data removed]",
      "text/plain": [
       "<Figure size 432x288 with 1 Axes>"
      ]
     },
     "metadata": {
      "needs_background": "light"
     },
     "output_type": "display_data"
    }
   ],
   "source": [
    "y_new = regression.predict(X_new_poly)\n",
    "plt.plot(X_new, y_new, \"r-\", linewidth=2, label=\" New Predictions\")\n",
    "plt.plot(X_train, y_train, \"b.\",label='Training points')\n",
    "plt.plot(X_test, y_test, \"g.\",label='Testing points')\n",
    "plt.xlabel(\"X\")\n",
    "plt.ylabel(\"y\")\n",
    "plt.legend()\n",
    "plt.show()"
   ]
  },
  {
   "cell_type": "markdown",
   "metadata": {},
   "source": [
    "## Pipeline Concepts "
   ]
  },
  {
   "cell_type": "code",
   "execution_count": 66,
   "metadata": {},
   "outputs": [],
   "source": [
    "from sklearn.pipeline import Pipeline"
   ]
  },
  {
   "cell_type": "code",
   "execution_count": 69,
   "metadata": {},
   "outputs": [],
   "source": [
    "def poly_regression(degree):\n",
    "    X_new = np.linspace(-3, 3, 200).reshape(200, 1)\n",
    "    \n",
    "    poly_features=PolynomialFeatures(degree=degree,include_bias=True)\n",
    "    lin_reg=LinearRegression()\n",
    "    poly_regression=Pipeline([\n",
    "        (\"poly_features\",poly_features),\n",
    "        (\"lin_reg\",lin_reg)\n",
    "    ])\n",
    "    poly_regression.fit(X_train,y_train) ## ploynomial and fit of linear reression\n",
    "    y_pred_new=poly_regression.predict(X_new)\n",
    "    #plotting prediction line\n",
    "    plt.plot(X_new, y_pred_new,'r', label=\"Degree \" + str(degree), linewidth=2)\n",
    "    plt.plot(X_train, y_train, \"b.\", linewidth=3)\n",
    "    plt.plot(X_test, y_test, \"g.\", linewidth=3)\n",
    "    plt.legend(loc=\"upper left\")\n",
    "    plt.xlabel(\"X\")\n",
    "    plt.ylabel(\"y\")\n",
    "    plt.axis([-4,4, 0, 10])\n",
    "    plt.show()\n",
    "    "
   ]
  },
  {
   "cell_type": "code",
   "execution_count": 70,
   "metadata": {},
   "outputs": [
    {
     "data": {
      "application/javascript": [
       "\n",
       "        if (window._pyforest_update_imports_cell) { window._pyforest_update_imports_cell('import matplotlib.pyplot as plt\\nimport numpy as np'); }\n",
       "    "
      ],
      "text/plain": [
       "<IPython.core.display.Javascript object>"
      ]
     },
     "metadata": {},
     "output_type": "display_data"
    },
    {
     "data": {
      "application/javascript": [
       "\n",
       "        if (window._pyforest_update_imports_cell) { window._pyforest_update_imports_cell('import matplotlib.pyplot as plt\\nimport numpy as np'); }\n",
       "    "
      ],
      "text/plain": [
       "<IPython.core.display.Javascript object>"
      ]
     },
     "metadata": {},
     "output_type": "display_data"
    },
    {
     "data": {
      "application/javascript": [
       "\n",
       "        if (window._pyforest_update_imports_cell) { window._pyforest_update_imports_cell('import matplotlib.pyplot as plt\\nimport numpy as np'); }\n",
       "    "
      ],
      "text/plain": [
       "<IPython.core.display.Javascript object>"
      ]
     },
     "metadata": {},
     "output_type": "display_data"
    },
    {
     "data": {
      "application/javascript": [
       "\n",
       "        if (window._pyforest_update_imports_cell) { window._pyforest_update_imports_cell('import matplotlib.pyplot as plt\\nimport numpy as np'); }\n",
       "    "
      ],
      "text/plain": [
       "<IPython.core.display.Javascript object>"
      ]
     },
     "metadata": {},
     "output_type": "display_data"
    },
    {
     "data": {
      "application/javascript": [
       "\n",
       "        if (window._pyforest_update_imports_cell) { window._pyforest_update_imports_cell('import matplotlib.pyplot as plt\\nimport numpy as np'); }\n",
       "    "
      ],
      "text/plain": [
       "<IPython.core.display.Javascript object>"
      ]
     },
     "metadata": {},
     "output_type": "display_data"
    },
    {
     "data": {
      "application/javascript": [
       "\n",
       "        if (window._pyforest_update_imports_cell) { window._pyforest_update_imports_cell('import matplotlib.pyplot as plt\\nimport numpy as np'); }\n",
       "    "
      ],
      "text/plain": [
       "<IPython.core.display.Javascript object>"
      ]
     },
     "metadata": {},
     "output_type": "display_data"
    },
    {
     "data": {
      "application/javascript": [
       "\n",
       "        if (window._pyforest_update_imports_cell) { window._pyforest_update_imports_cell('import matplotlib.pyplot as plt\\nimport numpy as np'); }\n",
       "    "
      ],
      "text/plain": [
       "<IPython.core.display.Javascript object>"
      ]
     },
     "metadata": {},
     "output_type": "display_data"
    },
    {
     "data": {
      "application/javascript": [
       "\n",
       "        if (window._pyforest_update_imports_cell) { window._pyforest_update_imports_cell('import matplotlib.pyplot as plt\\nimport numpy as np'); }\n",
       "    "
      ],
      "text/plain": [
       "<IPython.core.display.Javascript object>"
      ]
     },
     "metadata": {},
     "output_type": "display_data"
    },
    {
     "data": {
      "application/javascript": [
       "\n",
       "        if (window._pyforest_update_imports_cell) { window._pyforest_update_imports_cell('import matplotlib.pyplot as plt\\nimport numpy as np'); }\n",
       "    "
      ],
      "text/plain": [
       "<IPython.core.display.Javascript object>"
      ]
     },
     "metadata": {},
     "output_type": "display_data"
    },
    {
     "data": {
      "image/png": "[encoded data removed]",
      "text/plain": [
       "<Figure size 432x288 with 1 Axes>"
      ]
     },
     "metadata": {
      "needs_background": "light"
     },
     "output_type": "display_data"
    }
   ],
   "source": [
    "poly_regression(6)"
   ]
  },
  {
   "cell_type": "code",
   "execution_count": null,
   "metadata": {},
   "outputs": [],
   "source": []
  }
 ],
 "metadata": {
  "kernelspec": {
   "display_name": "Python 3 (ipykernel)",
   "language": "python",
   "name": "python3"
  },
  "language_info": {
   "codemirror_mode": {
    "name": "ipython",
    "version": 3
   },
   "file_extension": ".py",
   "mimetype": "text/x-python",
   "name": "python",
   "nbconvert_exporter": "python",
   "pygments_lexer": "ipython3",
   "version": "3.9.12"
  }
 },
 "nbformat": 4,
 "nbformat_minor": 4
}
